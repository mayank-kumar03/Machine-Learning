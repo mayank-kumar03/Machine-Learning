{
 "cells": [
  {
   "cell_type": "markdown",
   "metadata": {},
   "source": [
    "# Module: NumPy Assignments\n",
    "## Lesson: NumPy\n",
    "### Assignment 1: Array Creation and Manipulation\n",
    "\n",
    "1. Create a NumPy array of shape (5, 5) filled with random integers between 1 and 20. Replace all the elements in the third column with 1.\n",
    "2. Create a NumPy array of shape (4, 4) with values from 1 to 16. Replace the diagonal elements with 0.\n",
    "\n",
    "### Assignment 2: Array Indexing and Slicing\n",
    "\n",
    "1. Create a NumPy array of shape (6, 6) with values from 1 to 36. Extract the sub-array consisting of the 3rd to 5th rows and 2nd to 4th columns.\n",
    "2. Create a NumPy array of shape (5, 5) with random integers. Extract the elements on the border.\n",
    "\n",
    "### Assignment 3: Array Operations\n",
    "\n",
    "1. Create two NumPy arrays of shape (3, 4) filled with random integers. Perform element-wise addition, subtraction, multiplication, and division.\n",
    "2. Create a NumPy array of shape (4, 4) with values from 1 to 16. Compute the row-wise and column-wise sum.\n",
    "\n",
    "### Assignment 4: Statistical Operations\n",
    "\n",
    "1. Create a NumPy array of shape (5, 5) filled with random integers. Compute the mean, median, standard deviation, and variance of the array.\n",
    "2. Create a NumPy array of shape (3, 3) with values from 1 to 9. Normalize the array (i.e., scale the values to have a mean of 0 and a standard deviation of 1).\n",
    "\n",
    "### Assignment 5: Broadcasting\n",
    "\n",
    "1. Create a NumPy array of shape (3, 3) filled with random integers. Add a 1D array of shape (3,) to each row of the 2D array using broadcasting.\n",
    "2. Create a NumPy array of shape (4, 4) filled with random integers. Subtract a 1D array of shape (4,) from each column of the 2D array using broadcasting.\n",
    "\n",
    "### Assignment 6: Linear Algebra\n",
    "\n",
    "1. Create a NumPy array of shape (3, 3) representing a matrix. Compute its determinant, inverse, and eigenvalues.\n",
    "2. Create two NumPy arrays of shape (2, 3) and (3, 2). Perform matrix multiplication on these arrays.\n",
    "\n",
    "### Assignment 7: Advanced Array Manipulation\n",
    "\n",
    "1. Create a NumPy array of shape (3, 3) with values from 1 to 9. Reshape the array to shape (1, 9) and then to shape (9, 1).\n",
    "2. Create a NumPy array of shape (5, 5) filled with random integers. Flatten the array and then reshape it back to (5, 5).\n",
    "\n",
    "### Assignment 8: Fancy Indexing and Boolean Indexing\n",
    "\n",
    "1. Create a NumPy array of shape (5, 5) filled with random integers. Use fancy indexing to extract the elements at the corners of the array.\n",
    "2. Create a NumPy array of shape (4, 4) filled with random integers. Use boolean indexing to set all elements greater than 10 to 10.\n",
    "\n",
    "### Assignment 9: Structured Arrays\n",
    "\n",
    "1. Create a structured array with fields 'name' (string), 'age' (integer), and 'weight' (float). Add some data and sort the array by age.\n",
    "2. Create a structured array with fields 'x' and 'y' (both integers). Add some data and compute the Euclidean distance between each pair of points.\n",
    "\n",
    "### Assignment 10: Masked Arrays\n",
    "\n",
    "1. Create a masked array of shape (4, 4) with random integers and mask the elements greater than 10. Compute the sum of the unmasked elements.\n",
    "2. Create a masked array of shape (3, 3) with random integers and mask the diagonal elements. Replace the masked elements with the mean of the unmasked elements."
   ]
  },
  {
   "cell_type": "code",
   "execution_count": 1,
   "id": "c0b77395",
   "metadata": {},
   "outputs": [
    {
     "name": "stdout",
     "output_type": "stream",
     "text": [
      "before array\n",
      "[[ 6 19 20 13  8]\n",
      " [18 18 12 20 15]\n",
      " [19 10  5 13 15]\n",
      " [19  6  3  5 13]\n",
      " [14 17  5 10 19]]\n",
      "modified array:\n",
      "[[ 0 19 20 13  8]\n",
      " [18  0 12 20 15]\n",
      " [19 10  0 13 15]\n",
      " [19  6  3  0 13]\n",
      " [14 17  5 10  0]]\n"
     ]
    }
   ],
   "source": [
    "#Create a NumPy array of shape (5, 5) filled with random integers between 1 and 20. Replace all the elements in the third column with 1.\n",
    "\n",
    "import numpy as np\n",
    "array=np.random.randint(1,21,size=(5,5))\n",
    "print(\"before array\")\n",
    "\n",
    "print(array)\n",
    "np.fill_diagonal(array,0)\n",
    "print(\"modified array:\")\n",
    "print(array)"
   ]
  },
  {
   "cell_type": "code",
   "execution_count": 5,
   "id": "3d88bc5f",
   "metadata": {},
   "outputs": [
    {
     "name": "stdout",
     "output_type": "stream",
     "text": [
      "[[ 1  2  3  4  5  6]\n",
      " [ 7  8  9 10 11 12]\n",
      " [13 14 15 16 17 18]\n",
      " [19 20 21 22 23 24]\n",
      " [25 26 27 28 29 30]\n",
      " [31 32 33 34 35 36]]\n",
      "[[14 15 16]\n",
      " [20 21 22]\n",
      " [26 27 28]]\n"
     ]
    }
   ],
   "source": [
    "\n",
    "##1. Create a NumPy array of shape (6, 6) with values from 1 to 36. Extract the sub-array consisting of the 3rd to 5th rows and 2nd to 4th columns.\n",
    "\n",
    "\n",
    "array=np.arange(1,37).reshape((6,6))\n",
    "print(array)\n",
    "sub_array=array[2:5,1:4]\n",
    "print(sub_array)\n",
    "\n"
   ]
  },
  {
   "cell_type": "code",
   "execution_count": 7,
   "id": "16f759ac",
   "metadata": {},
   "outputs": [
    {
     "name": "stdout",
     "output_type": "stream",
     "text": [
      "Original array:\n",
      "[[ 6 11 16 20 10]\n",
      " [ 1  6  2 12 16]\n",
      " [16  8 10  9 18]\n",
      " [11 15  5 15  9]\n",
      " [ 1  1  8 14  6]]\n",
      "border element:\n",
      "[ 6 11 16 20 10  1  1  8 14  6  1 16 11 16 18  9]\n"
     ]
    }
   ],
   "source": [
    "2##. Create a NumPy array of shape (5, 5) with random integers. Extract the elements on the border.\n",
    "array = np.random.randint(1, 21, size=(5, 5))\n",
    "print(\"Original array:\")\n",
    "print(array)\n",
    "\n",
    "border_element=np.concatenate((array[0,:],array[-1,:],array[1:-1,0],array[1:-1,-1]))\n",
    "print(\"border element:\")\n",
    "print(border_element)"
   ]
  },
  {
   "cell_type": "code",
   "execution_count": 11,
   "id": "86412796",
   "metadata": {},
   "outputs": [
    {
     "name": "stdout",
     "output_type": "stream",
     "text": [
      "array1: \n",
      "[[ 2  7  5 10]\n",
      " [ 1  8 11  3]\n",
      " [ 8  2  1  7]]\n",
      "array2: \n",
      "[[ 3 10 10  3]\n",
      " [ 3  7  8  2]\n",
      " [ 8  5  4  8]]\n",
      "addiion: \n",
      "[[ 5 17 15 13]\n",
      " [ 4 15 19  5]\n",
      " [16  7  5 15]]\n",
      "subtraction:\n",
      "[[-1 -3 -5  7]\n",
      " [-2  1  3  1]\n",
      " [ 0 -3 -3 -1]]\n",
      "multiplication:\n",
      "[[ 6 70 50 30]\n",
      " [ 3 56 88  6]\n",
      " [64 10  4 56]]\n",
      "division:\n",
      "[[0.66666667 0.7        0.5        3.33333333]\n",
      " [0.33333333 1.14285714 1.375      1.5       ]\n",
      " [1.         0.4        0.25       0.875     ]]\n"
     ]
    }
   ],
   "source": [
    "#1. Create two NumPy arrays of shape (3, 4) filled with random integers. Perform element-wise addition, subtraction, multiplication, and division.\n",
    "array1=np.random.randint(1,12,size=(3,4))\n",
    "print(\"array1: \")\n",
    "print(array1);\n",
    "array2=np.random.randint(1,12,size=(3,4))\n",
    "print(\"array2: \")\n",
    "print(array2);\n",
    "addition=array1+array2\n",
    "print(\"addiion: \")\n",
    "print(addition)\n",
    "subtraction=array1-array2\n",
    "print(\"subtraction:\")\n",
    "print(subtraction)\n",
    "multiplication=array1*array2\n",
    "print(\"multiplication:\")\n",
    "print(multiplication)\n",
    "division=array1/array2\n",
    "print(\"division:\")\n",
    "print(division)"
   ]
  },
  {
   "cell_type": "code",
   "execution_count": 15,
   "id": "0d3382c0",
   "metadata": {},
   "outputs": [
    {
     "name": "stdout",
     "output_type": "stream",
     "text": [
      "array: [[ 1  2  3  4]\n",
      " [ 5  6  7  8]\n",
      " [ 9 10 11 12]\n",
      " [13 14 15 16]]\n",
      "row [10 26 42 58]\n",
      "column [28 32 36 40]\n"
     ]
    }
   ],
   "source": [
    "# Create a NumPy array of shape (4, 4) with values from 1 to 16. Compute the row-wise and column-wise sum.\n",
    "array=np.arange(1,17).reshape(4,4)\n",
    "print(\"array:\",array)\n",
    "row_wise_sum=np.sum(array,axis=1)\n",
    "coloumn_wise_sum=np.sum(array,axis=0)\n",
    "print(\"row\",row_wise_sum)\n",
    "print(\"column\",coloumn_wise_sum)"
   ]
  },
  {
   "cell_type": "code",
   "execution_count": 17,
   "id": "7906d3a1",
   "metadata": {},
   "outputs": [
    {
     "name": "stdout",
     "output_type": "stream",
     "text": [
      "mean 11.0\n",
      "median 11.0\n",
      "variation:  36.4\n"
     ]
    }
   ],
   "source": [
    "#Create a NumPy array of shape (5, 5) filled with random integers. Compute the mean, median, standard deviation, and variance of the array.\n",
    "array=np.random.randint(1,21,size=(5,5))\n",
    "print(\"mean\",np.mean(array))\n",
    "print(\"median\",np.median(array))\n",
    "print(\"variation: \",np.var(array))"
   ]
  },
  {
   "cell_type": "code",
   "execution_count": 19,
   "metadata": {},
   "outputs": [
    {
     "name": "stdout",
     "output_type": "stream",
     "text": [
      "[[1 2 3]\n",
      " [4 5 6]\n",
      " [7 8 9]]\n",
      "normilized array  [[-1.54919334 -1.161895   -0.77459667]\n",
      " [-0.38729833  0.          0.38729833]\n",
      " [ 0.77459667  1.161895    1.54919334]]\n"
     ]
    }
   ],
   "source": [
    "# Create a NumPy array of shape (3, 3) with values from 1 to 9. Normalize the array (i.e., scale the values to have a mean of 0 and a standard deviation of 1).\n",
    "arr=np.arange(1,10).reshape(3,3)\n",
    "print(arr)\n",
    "mean=np.mean(arr)\n",
    "std_dev=np.std(arr)\n",
    "normalized=(arr-mean)/std_dev\n",
    "print(\"normilized array \",normalized)"
   ]
  },
  {
   "cell_type": "code",
   "execution_count": 3,
   "id": "ee7b85cc",
   "metadata": {},
   "outputs": [
    {
     "name": "stdout",
     "output_type": "stream",
     "text": [
      "original array:  [[ 5 10  1]\n",
      " [ 8  8  6]\n",
      " [ 2  3  9]]\n",
      "row arrray:  [8 2 9]\n",
      "result:  [[13 12 10]\n",
      " [16 10 15]\n",
      " [10  5 18]]\n"
     ]
    }
   ],
   "source": [
    "#Create a NumPy array of shape (3, 3) filled with random integers. Add a 1D array of shape (3,) to each row of the 2D array using broadcasting.\n",
    "array=np.random.randint(1,11,size=(3,3))\n",
    "row_array=np.random.randint(1,11,size=(3,))\n",
    "print(\"original array: \",array)\n",
    "print(\"row arrray: \",row_array)\n",
    "result=array+row_array\n",
    "print(\"result: \",result);"
   ]
  },
  {
   "cell_type": "code",
   "execution_count": 5,
   "id": "31d8afa0",
   "metadata": {},
   "outputs": [
    {
     "name": "stdout",
     "output_type": "stream",
     "text": [
      "arr  [[15 10  4 13]\n",
      " [17 10 13  6]\n",
      " [16  1 18 20]\n",
      " [14 15 11 19]]\n",
      "row arr:  [ 2  5 18 13]\n",
      "result [[ 13   8   2  11]\n",
      " [ 12   5   8   1]\n",
      " [ -2 -17   0   2]\n",
      " [  1   2  -2   6]]\n"
     ]
    }
   ],
   "source": [
    "# Create a NumPy array of shape (4, 4) filled with random integers. Subtract a 1D array of shape (4,) from each column of the 2D array using broadcasting.\n",
    "arr=np.random.randint(1,21,size=(4,4))\n",
    "row_arr=np.random.randint(1,21,size=(4,))\n",
    "result=arr-row_arr[:,np.newaxis]\n",
    "print(\"arr \",arr)\n",
    "print(\"row arr: \",row_arr)\n",
    "print(\"result\",result)"
   ]
  },
  {
   "cell_type": "code",
   "execution_count": 8,
   "id": "c3ba2f75",
   "metadata": {},
   "outputs": [
    {
     "name": "stdout",
     "output_type": "stream",
     "text": [
      "original array:  [('Alice', 25, 55.5) ('Mohan', 17, 50. ) ('Ravi', 21, 65.6)\n",
      " ('Mayank', 22, 65. )]\n",
      "sorted array:  [('Mohan', 17, 50. ) ('Ravi', 21, 65.6) ('Mayank', 22, 65. )\n",
      " ('Alice', 25, 55.5)]\n"
     ]
    }
   ],
   "source": [
    "#Create a structured array with fields 'name' (string), 'age' (integer), and 'weight' (float). Add some data and sort the array by age.\n",
    "data_type=[('name','U10'),('age','i4'),('weight','f4')]\n",
    "data=np.array([('Alice',25,55.5),('Mohan',17,50.0),('Ravi',21,65.6),('Mayank',22,65.0)],dtype=data_type)\n",
    "print(\"original array: \",data)\n",
    "sorted_arr=np.sort(data,order='age')\n",
    "print(\"sorted array: \",sorted_arr)"
   ]
  },
  {
   "cell_type": "code",
   "execution_count": 3,
   "id": "8973bfa5",
   "metadata": {},
   "outputs": [
    {
     "name": "stdout",
     "output_type": "stream",
     "text": [
      "data :  [(4, 5) (6, 8) (5, 9)]\n",
      "Euclidian dis  [[0.         3.60555128 4.12310563]\n",
      " [3.60555128 0.         1.41421356]\n",
      " [4.12310563 1.41421356 0.        ]]\n"
     ]
    }
   ],
   "source": [
    "#Create a structured array with fields 'x' and 'y' (both integers). Add some data and compute the Euclidean distance between each pair of points.\n",
    "import numpy as np\n",
    "data_type=[('x','i4'),('y','i4')]\n",
    "data=np.array([(4,5),(6,8),(5,9)],dtype=data_type)\n",
    "print(\"data : \",data)\n",
    "distances = np.sqrt((data['x'][:, np.newaxis] - data['x'])**2 + (data['y'][:, np.newaxis] - data['y'])**2)\n",
    "print(\"Euclidian dis \",distances)"
   ]
  },
  {
   "cell_type": "code",
   "execution_count": 5,
   "id": "5e22e6f1",
   "metadata": {},
   "outputs": [
    {
     "name": "stdout",
     "output_type": "stream",
     "text": [
      "array:  [[ 9  3  8  9]\n",
      " [ 3 10  2  3]\n",
      " [11 20  2  2]\n",
      " [ 3 15 13  2]]\n",
      "masked array:  [[9 3 8 9]\n",
      " [3 10 2 3]\n",
      " [-- -- 2 2]\n",
      " [3 -- -- 2]]\n",
      "Sum of unmasked elements: 56\n"
     ]
    }
   ],
   "source": [
    "#Create a masked array of shape (4, 4) with random integers and mask the elements greater than 10. Compute the sum of the unmasked elements.\n",
    "import numpy.ma as ma\n",
    "array=np.random.randint(1,21,size=(4,4))\n",
    "masked_array=ma.masked_greater(array,10)\n",
    "print(\"array: \",array)\n",
    "print(\"masked array: \",masked_array)\n",
    "sum_unmasked = masked_array.sum()\n",
    "print(\"Sum of unmasked elements:\", sum_unmasked)"
   ]
  },
  {
   "cell_type": "code",
   "execution_count": null,
   "id": "fd17efa0",
   "metadata": {},
   "outputs": [],
   "source": []
  }
 ],
 "metadata": {
  "kernelspec": {
   "display_name": "Python 3",
   "language": "python",
   "name": "python3"
  },
  "language_info": {
   "codemirror_mode": {
    "name": "ipython",
    "version": 3
   },
   "file_extension": ".py",
   "mimetype": "text/x-python",
   "name": "python",
   "nbconvert_exporter": "python",
   "pygments_lexer": "ipython3",
   "version": "3.12.0"
  }
 },
 "nbformat": 4,
 "nbformat_minor": 5
}
