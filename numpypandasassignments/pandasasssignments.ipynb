{
 "cells": [
  {
   "cell_type": "markdown",
   "metadata": {},
   "source": [
    "# Module: Pandas Assignments\n",
    "## Lesson: Pandas\n",
    "### Assignment 1: DataFrame Creation and Indexing\n",
    "\n",
    "1. Create a Pandas DataFrame with 4 columns and 6 rows filled with random integers. Set the index to be the first column.\n",
    "2. Create a Pandas DataFrame with columns 'A', 'B', 'C' and index 'X', 'Y', 'Z'. Fill the DataFrame with random integers and access the element at row 'Y' and column 'B'.\n",
    "\n",
    "### Assignment 2: DataFrame Operations\n",
    "\n",
    "1. Create a Pandas DataFrame with 3 columns and 5 rows filled with random integers. Add a new column that is the product of the first two columns.\n",
    "2. Create a Pandas DataFrame with 3 columns and 4 rows filled with random integers. Compute the row-wise and column-wise sum.\n",
    "\n",
    "### Assignment 3: Data Cleaning\n",
    "\n",
    "1. Create a Pandas DataFrame with 3 columns and 5 rows filled with random integers. Introduce some NaN values. Fill the NaN values with the mean of the respective columns.\n",
    "2. Create a Pandas DataFrame with 4 columns and 6 rows filled with random integers. Introduce some NaN values. Drop the rows with any NaN values.\n",
    "\n",
    "### Assignment 4: Data Aggregation\n",
    "\n",
    "1. Create a Pandas DataFrame with 2 columns: 'Category' and 'Value'. Fill the 'Category' column with random categories ('A', 'B', 'C') and the 'Value' column with random integers. Group the DataFrame by 'Category' and compute the sum and mean of 'Value' for each category.\n",
    "2. Create a Pandas DataFrame with 3 columns: 'Product', 'Category', and 'Sales'. Fill the DataFrame with random data. Group the DataFrame by 'Category' and compute the total sales for each category.\n",
    "\n",
    "### Assignment 5: Merging DataFrames\n",
    "\n",
    "1. Create two Pandas DataFrames with a common column. Merge the DataFrames using the common column.\n",
    "2. Create two Pandas DataFrames with different columns. Concatenate the DataFrames along the rows and along the columns.\n",
    "\n",
    "### Assignment 6: Time Series Analysis\n",
    "\n",
    "1. Create a Pandas DataFrame with a datetime index and one column filled with random integers. Resample the DataFrame to compute the monthly mean of the values.\n",
    "2. Create a Pandas DataFrame with a datetime index ranging from '2021-01-01' to '2021-12-31' and one column filled with random integers. Compute the rolling mean with a window of 7 days.\n",
    "\n",
    "### Assignment 7: MultiIndex DataFrame\n",
    "\n",
    "1. Create a Pandas DataFrame with a MultiIndex (hierarchical index). Perform some basic indexing and slicing operations on the MultiIndex DataFrame.\n",
    "2. Create a Pandas DataFrame with MultiIndex consisting of 'Category' and 'SubCategory'. Fill the DataFrame with random data and compute the sum of values for each 'Category' and 'SubCategory'.\n",
    "\n",
    "### Assignment 8: Pivot Tables\n",
    "\n",
    "1. Create a Pandas DataFrame with columns 'Date', 'Category', and 'Value'. Create a pivot table to compute the sum of 'Value' for each 'Category' by 'Date'.\n",
    "2. Create a Pandas DataFrame with columns 'Year', 'Quarter', and 'Revenue'. Create a pivot table to compute the mean 'Revenue' for each 'Quarter' by 'Year'.\n",
    "\n",
    "### Assignment 9: Applying Functions\n",
    "\n",
    "1. Create a Pandas DataFrame with 3 columns and 5 rows filled with random integers. Apply a function that doubles the values of the DataFrame.\n",
    "2. Create a Pandas DataFrame with 3 columns and 6 rows filled with random integers. Apply a lambda function to create a new column that is the sum of the existing columns.\n",
    "\n",
    "### Assignment 10: Working with Text Data\n",
    "\n",
    "1. Create a Pandas Series with 5 random text strings. Convert all the strings to uppercase.\n",
    "2. Create a Pandas Series with 5 random text strings. Extract the first three characters of each string.\n"
   ]
  },
  {
   "cell_type": "code",
   "execution_count": 4,
   "metadata": {},
   "outputs": [
    {
     "name": "stdout",
     "output_type": "stream",
     "text": [
      "original dataframe: \n",
      "    A   B   C   D\n",
      "0  51  47  99  75\n",
      "1  72  40   3  46\n",
      "2  91  69  33  59\n",
      "3  56  46  82  17\n",
      "4  33  82  32  62\n",
      "5  36  44  12  11\n",
      "new df:\n",
      "     B   C   D\n",
      "A             \n",
      "51  47  99  75\n",
      "72  40   3  46\n",
      "91  69  33  59\n",
      "56  46  82  17\n",
      "33  82  32  62\n",
      "36  44  12  11\n"
     ]
    }
   ],
   "source": [
    "# Create a Pandas DataFrame with 4 columns and 6 rows filled with random integers. Set the index to be the first column.\n",
    "import pandas as pd \n",
    "import numpy as np\n",
    "df=pd.DataFrame(np.random.randint(1,100,size=(6,4)),columns=['A','B','C','D'])\n",
    "print(\"original dataframe: \")\n",
    "print(df)\n",
    "df.set_index('A',inplace=True)\n",
    "print(\"new df:\")\n",
    "print(df)"
   ]
  },
  {
   "cell_type": "code",
   "execution_count": 8,
   "id": "27f96b38",
   "metadata": {},
   "outputs": [
    {
     "name": "stdout",
     "output_type": "stream",
     "text": [
      "   A  B  C\n",
      "X  8  3  7\n",
      "Y  5  1  8\n",
      "Z  9  4  1\n",
      "1\n"
     ]
    }
   ],
   "source": [
    "#Create a Pandas DataFrame with columns 'A', 'B', 'C' and index 'X', 'Y', 'Z'. Fill the DataFrame with random integers and access the element at row 'Y' and column 'B'.\n",
    "df=pd.DataFrame(np.random.randint(1,10,size=(3,3)),columns=['A','B','C'],index=['X', 'Y', 'Z'])\n",
    "print(df)\n",
    "element=df.at['Y','B']\n",
    "print(element)"
   ]
  },
  {
   "cell_type": "code",
   "execution_count": 12,
   "id": "08432b0d",
   "metadata": {},
   "outputs": [
    {
     "name": "stdout",
     "output_type": "stream",
     "text": [
      "    A   B   C\n",
      "0   9  17   8\n",
      "1   7   8  12\n",
      "2  11  16   9\n",
      "3   4   8   5\n",
      "4   9  18  16\n",
      "new df\n",
      "    A   B   C    D\n",
      "0   9  17   8  136\n",
      "1   7   8  12   96\n",
      "2  11  16   9  144\n",
      "3   4   8   5   40\n",
      "4   9  18  16  288\n"
     ]
    }
   ],
   "source": [
    "# Create a Pandas DataFrame with 3 columns and 5 rows filled with random integers. Add a new column that is the product of the first two columns.\n",
    "df=pd.DataFrame(np.random.randint(1,20,size=(5,3)),columns=['A','B','C'])\n",
    "print(df)\n",
    "df['D']=df['B']*df['C']\n",
    "print(\"new df\")\n",
    "print(df)"
   ]
  },
  {
   "cell_type": "code",
   "execution_count": 16,
   "id": "75f46d4b",
   "metadata": {},
   "outputs": [
    {
     "name": "stdout",
     "output_type": "stream",
     "text": [
      "    A   B   C\n",
      "a  12  11   1\n",
      "b  15   6   9\n",
      "c   9   6   8\n",
      "d  10  19  14\n",
      "a    24\n",
      "b    30\n",
      "c    23\n",
      "d    43\n",
      "dtype: int64\n",
      "col\n",
      "A    46\n",
      "B    42\n",
      "C    32\n",
      "dtype: int64\n"
     ]
    }
   ],
   "source": [
    "# Create a Pandas DataFrame with 3 columns and 4 rows filled with random integers. Compute the row-wise and column-wise sum.\n",
    "df=pd.DataFrame(np.random.randint(1,20,size=(4,3)),columns=['A','B','C'],index=['a','b','c','d'])\n",
    "print(df)\n",
    "row_sum=df.sum(axis=1)\n",
    "col_sum=df.sum(axis=0)\n",
    "print(row_sum)\n",
    "print(\"col\")\n",
    "print(col_sum)"
   ]
  },
  {
   "cell_type": "code",
   "execution_count": 6,
   "id": "87d87678",
   "metadata": {},
   "outputs": [
    {
     "name": "stdout",
     "output_type": "stream",
     "text": [
      "    A   B   C\n",
      "0   8   8   1\n",
      "1  19   9   9\n",
      "2  17  12   6\n",
      "3  13  15  12\n",
      "4   7  14   4\n",
      "Dataframe with NAN\n",
      "      A     B     C\n",
      "0   8.0   NaN   1.0\n",
      "1  19.0   9.0   9.0\n",
      "2  17.0  12.0   NaN\n",
      "3  13.0  15.0  12.0\n",
      "4   NaN   NaN   4.0\n",
      "Dataframe with nan value filled: \n",
      "       A     B     C\n",
      "0   8.00  12.0   1.0\n",
      "1  19.00   9.0   9.0\n",
      "2  17.00  12.0   6.5\n",
      "3  13.00  15.0  12.0\n",
      "4  14.25  12.0   4.0\n"
     ]
    }
   ],
   "source": [
    "import numpy as np\n",
    "import pandas as pd\n",
    "# Create a Pandas DataFrame with 3 columns and 5 rows filled with random integers. Introduce some NaN values. Fill the NaN values with the mean of the respective columns.\n",
    "df=pd.DataFrame(np.random.randint(1,21,size=(5,3)),columns=['A','B','C'])\n",
    "print(df)\n",
    "df.iloc[0, 1] = np.nan\n",
    "df.iloc[2, 2] = np.nan\n",
    "df.iloc[4, 0] = np.nan\n",
    "df.iloc[4,1]=np.nan\n",
    "print(\"Dataframe with NAN\")\n",
    "print(df)\n",
    "df.fillna(df.mean(),inplace=True)\n",
    "print(\"Dataframe with nan value filled: \")\n",
    "print(df)"
   ]
  },
  {
   "cell_type": "code",
   "execution_count": 9,
   "id": "58dcaa57",
   "metadata": {},
   "outputs": [
    {
     "name": "stdout",
     "output_type": "stream",
     "text": [
      "    A   B   C   D\n",
      "0   5   7  11   4\n",
      "1  18  14  12  16\n",
      "2   6   6   3  10\n",
      "3   7  19  16   2\n",
      "4  16   5   1  16\n",
      "5  12   3  12   2\n",
      "print df with nan     A     B     C   D\n",
      "0   5   7.0   NaN   4\n",
      "1  18  14.0  12.0  16\n",
      "2   6   NaN   3.0  10\n",
      "3   7  19.0  16.0   2\n",
      "4  16   5.0   1.0  16\n",
      "5  12   3.0  12.0   2\n",
      "Dataframe with nan values dropped: \n",
      "    A     B     C   D\n",
      "1  18  14.0  12.0  16\n",
      "3   7  19.0  16.0   2\n",
      "4  16   5.0   1.0  16\n",
      "5  12   3.0  12.0   2\n"
     ]
    }
   ],
   "source": [
    "#Create a Pandas DataFrame with 4 columns and 6 rows filled with random integers. Introduce some NaN values. Drop the rows with any NaN values.\n",
    "df=pd.DataFrame(np.random.randint(1,21,size=(6,4)),columns=['A','B','C','D'])\n",
    "print(df)\n",
    "df.iloc[0,2]=np.nan\n",
    "df.iloc[2,1]=np.nan\n",
    "print(\"print df with nan\",df)\n",
    "df.dropna(inplace=True)\n",
    "print(\"Dataframe with nan values dropped: \")\n",
    "print(df)"
   ]
  },
  {
   "cell_type": "code",
   "execution_count": 13,
   "id": "658ee638",
   "metadata": {},
   "outputs": [
    {
     "name": "stdout",
     "output_type": "stream",
     "text": [
      "original dataframe\n",
      "  Category  value\n",
      "0        C     58\n",
      "1        A     58\n",
      "2        B     92\n",
      "3        A     33\n",
      "4        C      8\n",
      "5        C     49\n",
      "6        A     59\n",
      "7        A     70\n",
      "8        A     21\n",
      "9        B      1\n",
      "Grouped DataFrame:\n",
      "          sum       mean\n",
      "Category                \n",
      "A         241  48.200000\n",
      "B          93  46.500000\n",
      "C         115  38.333333\n"
     ]
    }
   ],
   "source": [
    "#Create a Pandas DataFrame with 2 columns: 'Category' and 'Value'. Fill the 'Category' column with random categories ('A', 'B', 'C') and the 'Value' column with random integers. Group the DataFrame by 'Category' and compute the sum and mean of 'Value' for each category.\n",
    "df=pd.DataFrame({'Category':np.random.choice(['A','B','C'],size=10),'value':np.random.randint(1,100,size=10)})\n",
    "print(\"original dataframe\")\n",
    "print(df)\n",
    "grouped = df.groupby('Category')['value'].agg(['sum', 'mean'])\n",
    "print(\"Grouped DataFrame:\")\n",
    "print(grouped)\n",
    "\n"
   ]
  }
 ],
 "metadata": {
  "kernelspec": {
   "display_name": "Python 3",
   "language": "python",
   "name": "python3"
  },
  "language_info": {
   "codemirror_mode": {
    "name": "ipython",
    "version": 3
   },
   "file_extension": ".py",
   "mimetype": "text/x-python",
   "name": "python",
   "nbconvert_exporter": "python",
   "pygments_lexer": "ipython3",
   "version": "3.12.0"
  }
 },
 "nbformat": 4,
 "nbformat_minor": 5
}
